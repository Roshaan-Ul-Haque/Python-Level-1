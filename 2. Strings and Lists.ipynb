{
 "cells": [
  {
   "cell_type": "code",
   "execution_count": 1,
   "metadata": {
    "scrolled": true
   },
   "outputs": [
    {
     "name": "stdout",
     "output_type": "stream",
     "text": [
      "Mateen\n"
     ]
    }
   ],
   "source": [
    "#Strings\n",
    "uncle='Mateen'\n",
    "print(uncle)"
   ]
  },
  {
   "cell_type": "code",
   "execution_count": 2,
   "metadata": {},
   "outputs": [
    {
     "name": "stdout",
     "output_type": "stream",
     "text": [
      "Imran said, He can't come to the party.\n"
     ]
    }
   ],
   "source": [
    "#Writing same sentence from different methods\n",
    "my_string = \"Imran said, He can't come to the party.\"\n",
    "print(my_string)"
   ]
  },
  {
   "cell_type": "code",
   "execution_count": 3,
   "metadata": {},
   "outputs": [
    {
     "name": "stdout",
     "output_type": "stream",
     "text": [
      "Imran said, \"He can't come to the party.\"\n"
     ]
    }
   ],
   "source": [
    "my_string = 'Imran said, \"He can\\'t come to the party.\"'\n",
    "print(my_string)"
   ]
  },
  {
   "cell_type": "code",
   "execution_count": 4,
   "metadata": {
    "scrolled": true
   },
   "outputs": [
    {
     "name": "stdout",
     "output_type": "stream",
     "text": [
      "Imran said, \"He can't come to the party.\"\n"
     ]
    }
   ],
   "source": [
    "my_string = \"Imran said, \\\"He can't come to the party.\\\"\"\n",
    "print(my_string)"
   ]
  },
  {
   "cell_type": "code",
   "execution_count": 5,
   "metadata": {},
   "outputs": [
    {
     "name": "stdout",
     "output_type": "stream",
     "text": [
      "Imran said, \"He can't come to the party.\"\n"
     ]
    }
   ],
   "source": [
    "my_string = '''Imran said, \"He can\\'t come to the party.\"'''\n",
    "print(my_string)"
   ]
  },
  {
   "cell_type": "code",
   "execution_count": 6,
   "metadata": {},
   "outputs": [
    {
     "name": "stdout",
     "output_type": "stream",
     "text": [
      "i want 1000 kites\n"
     ]
    }
   ],
   "source": [
    "#Substituting value in strings\n",
    "quantity=1000\n",
    "message= 'i want %s kites'\n",
    "print(message % quantity)"
   ]
  },
  {
   "cell_type": "code",
   "execution_count": 7,
   "metadata": {},
   "outputs": [
    {
     "name": "stdout",
     "output_type": "stream",
     "text": [
      "I have 100 dollars but my brother have 50 dollars\n"
     ]
    }
   ],
   "source": [
    "statement='I have %s dollars but my brother have %s dollars'\n",
    "print(statement % (100,50))"
   ]
  },
  {
   "cell_type": "code",
   "execution_count": 8,
   "metadata": {},
   "outputs": [
    {
     "name": "stdout",
     "output_type": "stream",
     "text": [
      "hahahahahahahahahahahahahahahahahahahaha\n"
     ]
    }
   ],
   "source": [
    "#Multiplying Strings\n",
    "print(20*'ha')"
   ]
  },
  {
   "cell_type": "code",
   "execution_count": 9,
   "metadata": {},
   "outputs": [
    {
     "name": "stdout",
     "output_type": "stream",
     "text": [
      "                          I love books\n",
      "                          I like biryani\n",
      "                          I enjoy horse riding\n"
     ]
    }
   ],
   "source": [
    "spaces = ' '*25\n",
    "print('%s I love books' % spaces)\n",
    "print('%s I like biryani' % spaces)\n",
    "print('%s I enjoy horse riding' % spaces)"
   ]
  },
  {
   "cell_type": "code",
   "execution_count": 10,
   "metadata": {},
   "outputs": [
    {
     "name": "stdout",
     "output_type": "stream",
     "text": [
      "['Fortnite', 'CS GO', 'Pubg']\n"
     ]
    }
   ],
   "source": [
    "#Lists\n",
    "my_Game_list=['Fortnite', 'CS GO', 'Pubg']\n",
    "print(my_Game_list)"
   ]
  },
  {
   "cell_type": "code",
   "execution_count": 11,
   "metadata": {},
   "outputs": [
    {
     "name": "stdout",
     "output_type": "stream",
     "text": [
      "Pubg\n"
     ]
    }
   ],
   "source": [
    "print(my_Game_list[2])"
   ]
  },
  {
   "cell_type": "code",
   "execution_count": 12,
   "metadata": {},
   "outputs": [
    {
     "name": "stdout",
     "output_type": "stream",
     "text": [
      "Fortnite\n"
     ]
    }
   ],
   "source": [
    "print(my_Game_list[0])"
   ]
  },
  {
   "cell_type": "code",
   "execution_count": 13,
   "metadata": {},
   "outputs": [
    {
     "name": "stdout",
     "output_type": "stream",
     "text": [
      "['Fortnite', 'CS GO']\n"
     ]
    }
   ],
   "source": [
    "print(my_Game_list[0:2])"
   ]
  },
  {
   "cell_type": "code",
   "execution_count": 14,
   "metadata": {},
   "outputs": [
    {
     "name": "stdout",
     "output_type": "stream",
     "text": [
      "[1, 2, 3, 4]\n"
     ]
    }
   ],
   "source": [
    "num_list=[1, 2, 3, 4]\n",
    "print(num_list)"
   ]
  },
  {
   "cell_type": "code",
   "execution_count": 15,
   "metadata": {},
   "outputs": [
    {
     "name": "stdout",
     "output_type": "stream",
     "text": [
      "['ali', 'rizwan', 'omer']\n"
     ]
    }
   ],
   "source": [
    "string_list=['ali', 'rizwan', 'omer']\n",
    "print(string_list)"
   ]
  },
  {
   "cell_type": "code",
   "execution_count": 16,
   "metadata": {},
   "outputs": [
    {
     "name": "stdout",
     "output_type": "stream",
     "text": [
      "[1, 'ali', 'rizwan', 2, 3, 'omer']\n"
     ]
    }
   ],
   "source": [
    "num_string_list=[1, 'ali', 'rizwan', 2, 3, 'omer']\n",
    "print(num_string_list)"
   ]
  },
  {
   "cell_type": "code",
   "execution_count": 17,
   "metadata": {},
   "outputs": [
    {
     "name": "stdout",
     "output_type": "stream",
     "text": [
      "[[1, 2, 3, 4], ['ali', 'rizwan', 'omer']]\n"
     ]
    }
   ],
   "source": [
    "#Adding items to a list\n",
    "mylist=[num_list,string_list]\n",
    "print(mylist)"
   ]
  },
  {
   "cell_type": "code",
   "execution_count": 18,
   "metadata": {},
   "outputs": [
    {
     "name": "stdout",
     "output_type": "stream",
     "text": [
      "[1, 2, 3, 4, 5]\n"
     ]
    }
   ],
   "source": [
    "#Adding number to the list\n",
    "num_list.append(5)\n",
    "print(num_list)"
   ]
  },
  {
   "cell_type": "code",
   "execution_count": 19,
   "metadata": {},
   "outputs": [
    {
     "name": "stdout",
     "output_type": "stream",
     "text": [
      "['ali', 'rizwan', 'omer', 'imran']\n"
     ]
    }
   ],
   "source": [
    "#Adding variable to the ist\n",
    "string_list.append('imran')\n",
    "print(string_list)"
   ]
  },
  {
   "cell_type": "code",
   "execution_count": 20,
   "metadata": {},
   "outputs": [
    {
     "name": "stdout",
     "output_type": "stream",
     "text": [
      "['ali', 'rizwan', 'omer', 'imran', 'wahid']\n"
     ]
    }
   ],
   "source": [
    "string_list.append('wahid')\n",
    "print(string_list)"
   ]
  },
  {
   "cell_type": "code",
   "execution_count": 21,
   "metadata": {},
   "outputs": [
    {
     "name": "stdout",
     "output_type": "stream",
     "text": [
      "[1, 2, 3, 4]\n"
     ]
    }
   ],
   "source": [
    "#Deleting number from the list\n",
    "del num_list[4]\n",
    "print(num_list)"
   ]
  },
  {
   "cell_type": "code",
   "execution_count": 22,
   "metadata": {},
   "outputs": [
    {
     "name": "stdout",
     "output_type": "stream",
     "text": [
      "['ali', 'rizwan', 'omer', 'imran']\n"
     ]
    }
   ],
   "source": [
    "#Deleting variable from the list\n",
    "del string_list[4]\n",
    "print(string_list)"
   ]
  },
  {
   "cell_type": "code",
   "execution_count": 23,
   "metadata": {},
   "outputs": [
    {
     "name": "stdout",
     "output_type": "stream",
     "text": [
      "[1, 2, 3, 4, 'ali', 'rizwan', 'omer', 'imran']\n"
     ]
    }
   ],
   "source": [
    "print(num_list+string_list)"
   ]
  },
  {
   "cell_type": "code",
   "execution_count": 24,
   "metadata": {},
   "outputs": [
    {
     "name": "stdout",
     "output_type": "stream",
     "text": [
      "[1, 2, 3, 4, 1, 2, 3, 4, 1, 2, 3, 4, 1, 2, 3, 4]\n"
     ]
    }
   ],
   "source": [
    "#Multiplying list by the number\n",
    "print(num_list*4)"
   ]
  }
 ],
 "metadata": {
  "kernelspec": {
   "display_name": "Python 3",
   "language": "python",
   "name": "python3"
  },
  "language_info": {
   "codemirror_mode": {
    "name": "ipython",
    "version": 3
   },
   "file_extension": ".py",
   "mimetype": "text/x-python",
   "name": "python",
   "nbconvert_exporter": "python",
   "pygments_lexer": "ipython3",
   "version": "3.7.6"
  }
 },
 "nbformat": 4,
 "nbformat_minor": 4
}
