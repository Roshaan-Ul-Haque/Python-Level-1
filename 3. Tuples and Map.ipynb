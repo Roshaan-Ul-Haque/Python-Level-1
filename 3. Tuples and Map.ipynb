{
 "cells": [
  {
   "cell_type": "code",
   "execution_count": 1,
   "metadata": {},
   "outputs": [
    {
     "name": "stdout",
     "output_type": "stream",
     "text": [
      "3\n"
     ]
    }
   ],
   "source": [
    "#Tuples\n",
    "tuples=(1,2,3,4)\n",
    "print(tuples[2])"
   ]
  },
  {
   "cell_type": "code",
   "execution_count": 2,
   "metadata": {},
   "outputs": [
    {
     "name": "stdout",
     "output_type": "stream",
     "text": [
      "['Abeer,CS GO', 'Aryan,fortnite', 'Roshaan,Dota 2']\n"
     ]
    }
   ],
   "source": [
    "#Map\n",
    "favourite_video_game=['Abeer,CS GO','Aryan,fortnite','Roshaan,Dota 2']\n",
    "print(favourite_video_game)"
   ]
  },
  {
   "cell_type": "code",
   "execution_count": 3,
   "metadata": {},
   "outputs": [
    {
     "name": "stdout",
     "output_type": "stream",
     "text": [
      "{'Abeer': 'CS GO', 'Aryan': 'fortnite', 'Roshaan': 'Dota 2'}\n"
     ]
    }
   ],
   "source": [
    "#Modifying a value in a map\n",
    "favourite_video_game={'Abeer':'CS GO','Aryan':'fortnite','Roshaan':'Dota 2'}\n",
    "print(favourite_video_game)"
   ]
  },
  {
   "cell_type": "code",
   "execution_count": 4,
   "metadata": {},
   "outputs": [
    {
     "name": "stdout",
     "output_type": "stream",
     "text": [
      "fortnite\n"
     ]
    }
   ],
   "source": [
    "print(favourite_video_game['Aryan'])"
   ]
  },
  {
   "cell_type": "code",
   "execution_count": 5,
   "metadata": {},
   "outputs": [
    {
     "name": "stdout",
     "output_type": "stream",
     "text": [
      "{'Abeer': 'CS GO', 'Aryan': 'fortnite'}\n"
     ]
    }
   ],
   "source": [
    "#Deleting a value in the map\n",
    "del favourite_video_game['Roshaan']\n",
    "print(favourite_video_game)"
   ]
  },
  {
   "cell_type": "code",
   "execution_count": 6,
   "metadata": {},
   "outputs": [
    {
     "name": "stdout",
     "output_type": "stream",
     "text": [
      "{'Abeer': 'Call of Duty', 'Aryan': 'fortnite'}\n"
     ]
    }
   ],
   "source": [
    "#Replacing a value in a map\n",
    "favourite_video_game['Abeer']='Call of Duty'\n",
    "print(favourite_video_game)"
   ]
  }
 ],
 "metadata": {
  "kernelspec": {
   "display_name": "Python 3",
   "language": "python",
   "name": "python3"
  },
  "language_info": {
   "codemirror_mode": {
    "name": "ipython",
    "version": 3
   },
   "file_extension": ".py",
   "mimetype": "text/x-python",
   "name": "python",
   "nbconvert_exporter": "python",
   "pygments_lexer": "ipython3",
   "version": "3.7.6"
  }
 },
 "nbformat": 4,
 "nbformat_minor": 4
}
