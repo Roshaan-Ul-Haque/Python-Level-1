{
 "cells": [
  {
   "cell_type": "code",
   "execution_count": 1,
   "metadata": {},
   "outputs": [
    {
     "name": "stdout",
     "output_type": "stream",
     "text": [
      "Messi reaches 700 goals\n",
      "Messi reaches 700 goals\n",
      "Messi reaches 700 goals\n",
      "Messi reaches 700 goals\n",
      "Messi reaches 700 goals\n"
     ]
    }
   ],
   "source": [
    "#Loops\n",
    "for x in range(0,5):\n",
    "    print('Messi reaches 700 goals')"
   ]
  },
  {
   "cell_type": "code",
   "execution_count": 2,
   "metadata": {},
   "outputs": [
    {
     "name": "stdout",
     "output_type": "stream",
     "text": [
      "[10, 11, 12, 13, 14, 15, 16, 17, 18, 19]\n"
     ]
    }
   ],
   "source": [
    "#List and range\n",
    "print(list(range(10,20)))"
   ]
  },
  {
   "cell_type": "code",
   "execution_count": 3,
   "metadata": {},
   "outputs": [
    {
     "name": "stdout",
     "output_type": "stream",
     "text": [
      "Messi reaches 700 goals0\n",
      "Messi reaches 700 goals1\n",
      "Messi reaches 700 goals2\n",
      "Messi reaches 700 goals3\n",
      "Messi reaches 700 goals4\n"
     ]
    }
   ],
   "source": [
    "for x in range(0,5):\n",
    "    print('Messi reaches 700 goals%s' %x)"
   ]
  },
  {
   "cell_type": "code",
   "execution_count": 4,
   "metadata": {},
   "outputs": [
    {
     "name": "stdout",
     "output_type": "stream",
     "text": [
      "Messi reaches 700 goals0\n",
      "Messi reaches 700 goals1\n",
      "Messi reaches 700 goals2\n",
      "Messi reaches 700 goals3\n",
      "Messi reaches 700 goals4\n"
     ]
    }
   ],
   "source": [
    "#Same output without 'for'\n",
    "x=0\n",
    "print('Messi reaches 700 goals%s' %x)\n",
    "x=1\n",
    "print('Messi reaches 700 goals%s' %x)\n",
    "x=2\n",
    "print('Messi reaches 700 goals%s' %x)\n",
    "x=3\n",
    "print('Messi reaches 700 goals%s' %x)\n",
    "x=4\n",
    "print('Messi reaches 700 goals%s' %x)"
   ]
  },
  {
   "cell_type": "code",
   "execution_count": 5,
   "metadata": {},
   "outputs": [
    {
     "name": "stdout",
     "output_type": "stream",
     "text": [
      "Pakistan\n",
      "America\n",
      "Canada\n",
      "Saudia Arab\n"
     ]
    }
   ],
   "source": [
    "List=['Pakistan','America','Canada','Saudia Arab']\n",
    "for i in List:\n",
    "    print(i)"
   ]
  },
  {
   "cell_type": "code",
   "execution_count": 6,
   "metadata": {},
   "outputs": [
    {
     "name": "stdout",
     "output_type": "stream",
     "text": [
      "Pakistan\n",
      "America\n",
      "Canada\n",
      "Saudia Arab\n"
     ]
    }
   ],
   "source": [
    "#Same output without 'for'\n",
    "List=['Pakistan','America','Canada','Saudia Arab']\n",
    "print(List[0])\n",
    "print(List[1])\n",
    "print(List[2])\n",
    "print(List[3])"
   ]
  },
  {
   "cell_type": "code",
   "execution_count": 7,
   "metadata": {},
   "outputs": [
    {
     "name": "stdout",
     "output_type": "stream",
     "text": [
      "Pakistan\n",
      "Pakistan\n",
      "America\n",
      "America\n",
      "Canada\n",
      "Canada\n",
      "Saudia Arab\n",
      "Saudia Arab\n"
     ]
    }
   ],
   "source": [
    "List=['Pakistan','America','Canada','Saudia Arab']\n",
    "for i in List:\n",
    "    print(i)\n",
    "    print(i)"
   ]
  },
  {
   "cell_type": "code",
   "execution_count": 8,
   "metadata": {},
   "outputs": [
    {
     "name": "stdout",
     "output_type": "stream",
     "text": [
      "Pakistan\n",
      "Pakistan\n",
      "America\n",
      "Canada\n",
      "Saudia Arab\n",
      "America\n",
      "Pakistan\n",
      "America\n",
      "Canada\n",
      "Saudia Arab\n",
      "Canada\n",
      "Pakistan\n",
      "America\n",
      "Canada\n",
      "Saudia Arab\n",
      "Saudia Arab\n",
      "Pakistan\n",
      "America\n",
      "Canada\n",
      "Saudia Arab\n"
     ]
    }
   ],
   "source": [
    "List=['Pakistan','America','Canada','Saudia Arab']\n",
    "for i in List:\n",
    "    print(i)\n",
    "    for j in List:\n",
    "        print(j)"
   ]
  },
  {
   "cell_type": "code",
   "execution_count": 9,
   "metadata": {},
   "outputs": [
    {
     "name": "stdout",
     "output_type": "stream",
     "text": [
      "21 46\n",
      "22 47\n",
      "23 48\n",
      "24 49\n",
      "25 50\n",
      "26 51\n",
      "27 52\n",
      "28 53\n",
      "29 54\n",
      "30 55\n",
      "31 56\n",
      "32 57\n",
      "33 58\n",
      "34 59\n",
      "35 60\n"
     ]
    }
   ],
   "source": [
    "x=20\n",
    "y=45\n",
    "while x>10 and y<60:\n",
    "    x=x+1\n",
    "    y=y+1\n",
    "    print(x,y)"
   ]
  }
 ],
 "metadata": {
  "kernelspec": {
   "display_name": "Python 3",
   "language": "python",
   "name": "python3"
  },
  "language_info": {
   "codemirror_mode": {
    "name": "ipython",
    "version": 3
   },
   "file_extension": ".py",
   "mimetype": "text/x-python",
   "name": "python",
   "nbconvert_exporter": "python",
   "pygments_lexer": "ipython3",
   "version": "3.7.6"
  }
 },
 "nbformat": 4,
 "nbformat_minor": 4
}
