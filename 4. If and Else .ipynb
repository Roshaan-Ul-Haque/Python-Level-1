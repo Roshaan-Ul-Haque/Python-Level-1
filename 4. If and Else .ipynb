{
 "cells": [
  {
   "cell_type": "code",
   "execution_count": 1,
   "metadata": {},
   "outputs": [
    {
     "name": "stdout",
     "output_type": "stream",
     "text": [
      "Ali is bad\n"
     ]
    }
   ],
   "source": [
    "Ali=100\n",
    "if Ali<=10:\n",
    "    print('Ali is good')\n",
    "else:\n",
    "    print('Ali is bad')"
   ]
  },
  {
   "cell_type": "code",
   "execution_count": 2,
   "metadata": {},
   "outputs": [
    {
     "name": "stdout",
     "output_type": "stream",
     "text": [
      "you should be died\n",
      "you are too much old\n",
      "you are too much weak\n"
     ]
    }
   ],
   "source": [
    "age=101\n",
    "if age > 100:\n",
    "    print('you should be died')\n",
    "    print('you are too much old')\n",
    "    print('you are too much weak')"
   ]
  },
  {
   "cell_type": "code",
   "execution_count": 3,
   "metadata": {},
   "outputs": [
    {
     "name": "stdout",
     "output_type": "stream",
     "text": [
      "Ali isn't a old man\n"
     ]
    }
   ],
   "source": [
    "Ali=100\n",
    "if Ali==10:\n",
    "    print('Ali is good')\n",
    "elif Ali==20:\n",
    "    print('Ali isn\\'t good')\n",
    "elif Ali==30:\n",
    "    print('Ali is a man')\n",
    "elif Ali==40:\n",
    "    print('Ali isn\\'t a man')\n",
    "elif Ali==50:\n",
    "    print('Ali is a old man')\n",
    "elif Ali==100:\n",
    "    print('Ali isn\\'t a old man')\n",
    "else:\n",
    "    print('Ali is bad')"
   ]
  },
  {
   "cell_type": "code",
   "execution_count": 4,
   "metadata": {},
   "outputs": [
    {
     "name": "stdout",
     "output_type": "stream",
     "text": [
      "Ali is dead\n"
     ]
    }
   ],
   "source": [
    "Ali=100\n",
    "if Ali==10 or Ali==20 or Ali==30 or Ali==40 or Ali==50:\n",
    "    print('Ali is alive')\n",
    "else:\n",
    "    print('Ali is dead')"
   ]
  },
  {
   "cell_type": "code",
   "execution_count": 5,
   "metadata": {},
   "outputs": [
    {
     "name": "stdout",
     "output_type": "stream",
     "text": [
      "Ali is dead\n"
     ]
    }
   ],
   "source": [
    "Ali=100\n",
    "if Ali>=10 and Ali<=50:\n",
    "    print('Ali is alive')\n",
    "else:\n",
    "    print('Ali is dead')"
   ]
  },
  {
   "cell_type": "code",
   "execution_count": 6,
   "metadata": {},
   "outputs": [
    {
     "name": "stdout",
     "output_type": "stream",
     "text": [
      "Ali is alive\n"
     ]
    }
   ],
   "source": [
    "Ali=None\n",
    "if Ali==None:\n",
    "    print('Ali is alive')\n",
    "else:\n",
    "    print('Ali is bad')"
   ]
  },
  {
   "cell_type": "code",
   "execution_count": 7,
   "metadata": {},
   "outputs": [
    {
     "name": "stdout",
     "output_type": "stream",
     "text": [
      "Ali is bad\n"
     ]
    }
   ],
   "source": [
    "Ali='10'\n",
    "if Ali==10:\n",
    "    print('Ali is good')\n",
    "else:\n",
    "    print('Ali is bad')"
   ]
  },
  {
   "cell_type": "code",
   "execution_count": 8,
   "metadata": {},
   "outputs": [
    {
     "name": "stdout",
     "output_type": "stream",
     "text": [
      "Ali is bad\n"
     ]
    }
   ],
   "source": [
    "Ali='100'\n",
    "Converted_Ali=int(Ali)                  \n",
    "if Converted_Ali<=10:\n",
    "    print('Ali is good')\n",
    "else:\n",
    "    print('Ali is bad')"
   ]
  },
  {
   "cell_type": "code",
   "execution_count": 9,
   "metadata": {},
   "outputs": [
    {
     "name": "stdout",
     "output_type": "stream",
     "text": [
      "Ali is good\n"
     ]
    }
   ],
   "source": [
    "Ali='10.5'\n",
    "Converted_Ali=float(Ali)                  \n",
    "if Converted_Ali<=10.5:\n",
    "    print('Ali is good')\n",
    "else:\n",
    "    print('Ali is bad')"
   ]
  }
 ],
 "metadata": {
  "kernelspec": {
   "display_name": "Python 3",
   "language": "python",
   "name": "python3"
  },
  "language_info": {
   "codemirror_mode": {
    "name": "ipython",
    "version": 3
   },
   "file_extension": ".py",
   "mimetype": "text/x-python",
   "name": "python",
   "nbconvert_exporter": "python",
   "pygments_lexer": "ipython3",
   "version": "3.7.6"
  }
 },
 "nbformat": 4,
 "nbformat_minor": 4
}
