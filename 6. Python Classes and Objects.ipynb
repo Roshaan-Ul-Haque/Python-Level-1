{
 "cells": [
  {
   "cell_type": "code",
   "execution_count": 1,
   "metadata": {},
   "outputs": [],
   "source": [
    "friend=('Ahmed')\n",
    "def friend(name):\n",
    "    print('My friend name is %s' %name)"
   ]
  },
  {
   "cell_type": "code",
   "execution_count": 2,
   "metadata": {},
   "outputs": [
    {
     "name": "stdout",
     "output_type": "stream",
     "text": [
      "My friend name is Ahmed\n"
     ]
    }
   ],
   "source": [
    "friend('Ahmed')\n",
    "def friend(name):\n",
    "    print('My friend name is %s' %name)"
   ]
  },
  {
   "cell_type": "code",
   "execution_count": 3,
   "metadata": {},
   "outputs": [],
   "source": [
    "friend=('Ahmed', 'Saad')\n",
    "def friend(name1,name2):\n",
    "    print('My friend name is %s and %s' % (name1,name2))"
   ]
  },
  {
   "cell_type": "code",
   "execution_count": 4,
   "metadata": {},
   "outputs": [
    {
     "name": "stdout",
     "output_type": "stream",
     "text": [
      "My friend name is Ahmed and Saad\n"
     ]
    }
   ],
   "source": [
    "friend('Ahmed', 'Saad')\n",
    "def friend(name1,name2):\n",
    "    print('My friend name is %s and %s' % (name1,name2))"
   ]
  },
  {
   "cell_type": "code",
   "execution_count": 5,
   "metadata": {},
   "outputs": [],
   "source": [
    "testfunc=('Mohammad', 'Ali')\n",
    "def testfunc(fname, lname):\n",
    "    \n",
    "    print('Hello %s %s' % (fname, lname))"
   ]
  },
  {
   "cell_type": "code",
   "execution_count": 6,
   "metadata": {},
   "outputs": [
    {
     "name": "stdout",
     "output_type": "stream",
     "text": [
      "Hello Mohammad Ali\n"
     ]
    }
   ],
   "source": [
    "testfunc('Mohammad', 'Ali')\n",
    "def testfunc(fname, lname):\n",
    "    \n",
    "    print('Hello %s %s' % (fname, lname))"
   ]
  },
  {
   "cell_type": "code",
   "execution_count": 7,
   "metadata": {},
   "outputs": [
    {
     "name": "stdout",
     "output_type": "stream",
     "text": [
      "Mohammad Omar\n"
     ]
    }
   ],
   "source": [
    "firstname= 'Mohammad'\n",
    "lastname= 'Omar'\n",
    "testfunc=(firstname, lastname)\n",
    "print (firstname, lastname)"
   ]
  },
  {
   "cell_type": "code",
   "execution_count": 8,
   "metadata": {},
   "outputs": [
    {
     "name": "stdout",
     "output_type": "stream",
     "text": [
      "200\n"
     ]
    }
   ],
   "source": [
    "def variable():\n",
    "    first_variable= 10\n",
    "    second_variable= 20\n",
    "    return first_variable* second_variable\n",
    "print(variable())"
   ]
  },
  {
   "cell_type": "code",
   "execution_count": 9,
   "metadata": {},
   "outputs": [
    {
     "name": "stdout",
     "output_type": "stream",
     "text": [
      "168000.0\n"
     ]
    }
   ],
   "source": [
    "def marks():\n",
    "    Ali=90\n",
    "    Anas=80\n",
    "    Ovais=70\n",
    "    return ((Ali*Anas*Ovais)/3)\n",
    "print(marks())"
   ]
  },
  {
   "cell_type": "code",
   "execution_count": 10,
   "metadata": {},
   "outputs": [
    {
     "name": "stdout",
     "output_type": "stream",
     "text": [
      "20000\n"
     ]
    }
   ],
   "source": [
    "another_variable= 100\n",
    "first_variable= 10\n",
    "second_variable= 20\n",
    "def variable_test2():\n",
    "    return first_variable* second_variable* another_variable\n",
    "print(variable_test2())"
   ]
  },
  {
   "cell_type": "code",
   "execution_count": 11,
   "metadata": {},
   "outputs": [
    {
     "name": "stdout",
     "output_type": "stream",
     "text": [
      "Wed Jul  1 16:11:57 2020\n"
     ]
    }
   ],
   "source": [
    "import time\n",
    "print(time.asctime())"
   ]
  }
 ],
 "metadata": {
  "kernelspec": {
   "display_name": "Python 3",
   "language": "python",
   "name": "python3"
  },
  "language_info": {
   "codemirror_mode": {
    "name": "ipython",
    "version": 3
   },
   "file_extension": ".py",
   "mimetype": "text/x-python",
   "name": "python",
   "nbconvert_exporter": "python",
   "pygments_lexer": "ipython3",
   "version": "3.7.6"
  }
 },
 "nbformat": 4,
 "nbformat_minor": 4
}
